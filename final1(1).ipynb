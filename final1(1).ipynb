{
 "cells": [
  {
   "cell_type": "code",
   "execution_count": null,
   "metadata": {},
   "outputs": [],
   "source": [
    "#Importing required modules and classes\n",
    "from imutils.perspective import four_point_transform\n",
    "from imutils import contours\n",
    "import imutils\n",
    "import pandas as pd\n",
    "import numpy as np\n",
    "import glob\n",
    "import pylab as plt\n",
    "from PIL import Image\n",
    "import pytesseract\n",
    "from pytesseract import image_to_string \n",
    "import cv2\n",
    "import os\n",
    "#Adding tesseract to the enivornment\n",
    "pytesseract.pytesseract.tesseract_cmd = '/home/deepanshu/Downloads/leptonica-1.79.0/tesseract'"
   ]
  },
  {
   "cell_type": "code",
   "execution_count": null,
   "metadata": {},
   "outputs": [],
   "source": [
    "#Creating a empty list to store outputs(extracted license plates)\n",
    "a=[]\n",
    "i=1\n",
    "while(i<=44):\n",
    "    #Reading Images\n",
    "    image = cv2.imread(\"final ds/img (\"+str(i)+\").jpg\")\n",
    "\n",
    "    #Preprocessing image for finding out the number plate on the image\n",
    "    image = imutils.resize(image, height=500)\n",
    "    #gray --- > blurred --- > edged --- > find contours\n",
    "    gray = cv2.cvtColor(image, cv2.COLOR_BGR2GRAY)\n",
    "    #cv2.imshow(\"Gray\", gray)\n",
    "    blurred = cv2.GaussianBlur(gray, (5, 5), 0)\n",
    "    #cv2.imshow(\"Blurred\", blurred)\n",
    "    edged = cv2.Canny(blurred, 50, 200, 255)\n",
    "    #cv2.imshow(\"Edged\", edged)\n",
    "    cnts = cv2.findContours(edged.copy(), cv2.RETR_EXTERNAL,\n",
    "        cv2.CHAIN_APPROX_SIMPLE)\n",
    "    cnts = imutils.grab_contours(cnts)\n",
    "    cnts = sorted(cnts, key=cv2.contourArea, reverse=True)\n",
    "    displayCnt = None\n",
    "    for c in cnts:\n",
    "        peri = cv2.arcLength(c, True)\n",
    "        approx = cv2.approxPolyDP(c, 0.02 * peri, True)\n",
    "        if len(approx) == 4:\n",
    "            displayCnt = approx\n",
    "            break\n",
    "    if displayCnt is not None:\n",
    "        warped = four_point_transform(gray, displayCnt.reshape(4, 2))\n",
    "        output = four_point_transform(image, displayCnt.reshape(4, 2))\n",
    "        cv2.imwrite(\"D:/proj/licplates/lic\"+str(i)+\".jpeg\",output)\n",
    "    #Output here is the numberplates\n",
    "    image = output\n",
    "    gray = cv2.cvtColor(image, cv2.COLOR_BGR2GRAY)\n",
    "    filename = \"{}.png\".format(os.getpid())\n",
    "    cv2.imwrite(filename, gray)\n",
    "    #cv2.imshow(\"Output\", gray)\n",
    "    #cv2.waitKey(0)\n",
    "    text = image_to_string(Image.open(filename))\n",
    "    os.remove(filename)\n",
    "    a.append(text)\n",
    "    i=i+1    "
   ]
  },
  {
   "cell_type": "code",
   "execution_count": null,
   "metadata": {},
   "outputs": [],
   "source": [
    "#Adding all the texts in the list to csv\n",
    "data=pd.DataFrame(a)\n",
    "data.columns=['number']\n",
    "data.to_csv(\"output.csv\")\n",
    "data"
   ]
  },
  {
   "cell_type": "code",
   "execution_count": null,
   "metadata": {},
   "outputs": [],
   "source": [
    "#Accpeting Input Image Currectly as check.img and processing in the same manner as above to extract license plate\n",
    "image=cv2.imread(\"check2.jpg\")\n",
    "image = imutils.resize(image, height=500)\n",
    "gray = cv2.cvtColor(image, cv2.COLOR_BGR2GRAY)\n",
    "blurred = cv2.GaussianBlur(gray, (5, 5), 0)\n",
    "edged = cv2.Canny(blurred, 50, 200, 255)\n",
    "cnts = cv2.findContours(edged.copy(), cv2.RETR_EXTERNAL,\n",
    "    cv2.CHAIN_APPROX_SIMPLE)\n",
    "cnts = imutils.grab_contours(cnts)\n",
    "cnts = sorted(cnts, key=cv2.contourArea, reverse=True)\n",
    "displayCnt = None\n",
    "for c in cnts:\n",
    "    peri = cv2.arcLength(c, True)\n",
    "    approx = cv2.approxPolyDP(c, 0.02 * peri, True)\n",
    "    if len(approx) == 4:\n",
    "        displayCnt = approx\n",
    "        break\n",
    "if displayCnt is not None:\n",
    "    warped = four_point_transform(gray, displayCnt.reshape(4, 2))\n",
    "    output = four_point_transform(image, displayCnt.reshape(4, 2))\n",
    "gray = cv2.cvtColor(output, cv2.COLOR_BGR2GRAY)\n",
    "filename = \"{}.png\".format(os.getpid())\n",
    "cv2.imwrite(filename, gray)\n",
    "txt = pytesseract.image_to_string(Image.open(filename))\n",
    "os.remove(filename)\n",
    "print(txt)"
   ]
  },
  {
   "cell_type": "code",
   "execution_count": null,
   "metadata": {},
   "outputs": [],
   "source": [
    "#Importing dataset from memory\n",
    "df = pd.read_csv(\"output.csv\")"
   ]
  },
  {
   "cell_type": "code",
   "execution_count": null,
   "metadata": {},
   "outputs": [],
   "source": [
    "#Checking if the new extracted license plate is a part of dataset\n",
    "z=0\n",
    "for i in range(0,len(df['number'])):\n",
    "    if(txt == df['number'][i]):\n",
    "        z=1\n",
    "        y=i+1\n",
    "        break\n",
    "if(z==1):\n",
    "    print(\"Resident\")\n",
    "    print(\"Parking Slot=\",y)\n",
    "else:\n",
    "    print(\"Visitor\")\n",
    "    print(txt)"
   ]
  },
  {
   "cell_type": "code",
   "execution_count": null,
   "metadata": {},
   "outputs": [],
   "source": []
  },
  {
   "cell_type": "code",
   "execution_count": null,
   "metadata": {},
   "outputs": [],
   "source": []
  }
 ],
 "metadata": {
  "kernelspec": {
   "display_name": "Python 3",
   "language": "python",
   "name": "python3"
  },
  "language_info": {
   "codemirror_mode": {
    "name": "ipython",
    "version": 3
   },
   "file_extension": ".py",
   "mimetype": "text/x-python",
   "name": "python",
   "nbconvert_exporter": "python",
   "pygments_lexer": "ipython3",
   "version": "3.7.5"
  }
 },
 "nbformat": 4,
 "nbformat_minor": 2
}
